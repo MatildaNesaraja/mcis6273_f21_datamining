{
 "cells": [
  {
   "cell_type": "markdown",
   "metadata": {},
   "source": [
    "<h2><center> MCIS6273 Data Mining (Prof. Maull) / Fall 2021 / HW3b</center></h2>"
   ]
  },
  {
   "cell_type": "code",
   "execution_count": 1,
   "metadata": {},
   "outputs": [],
   "source": [
    "from sklearn.feature_extraction.text import TfidfVectorizer\n",
    "from sklearn.naive_bayes import MultinomialNB"
   ]
  },
  {
   "cell_type": "code",
   "execution_count": 2,
   "metadata": {},
   "outputs": [],
   "source": [
    "# uncomment this to train on the corpori given\n",
    "\n",
    "file_list = [\n",
    "     open(\"data/train/compsci.txt\"),\n",
    "     open(\"data/train/sociology.txt\"),\n",
    "     open(\"data/train/education.txt\"),\n",
    "     open(\"data/train/physics.txt\"),\n",
    "     open(\"data/train/economics.txt\")\n",
    "]\n"
   ]
  },
  {
   "cell_type": "code",
   "execution_count": 4,
   "metadata": {},
   "outputs": [],
   "source": [
    "vectorizer = TfidfVectorizer(input='file', stop_words='english')"
   ]
  },
  {
   "cell_type": "code",
   "execution_count": 5,
   "metadata": {},
   "outputs": [],
   "source": [
    "# set the vectorizer representation of the input documents and their target classes\n",
    "X_train = vectorizer.fit_transform([open(file.name, 'r', encoding='utf-8') for file in file_list]) #file_list\n",
    "y_train = ['compsci', 'sociology', 'education', 'physics', 'economics']"
   ]
  },
  {
   "cell_type": "code",
   "execution_count": 6,
   "metadata": {},
   "outputs": [
    {
     "data": {
      "text/plain": [
       "MultinomialNB()"
      ]
     },
     "execution_count": 6,
     "metadata": {},
     "output_type": "execute_result"
    }
   ],
   "source": [
    "# build the classifier\n",
    "clf = MultinomialNB()\n",
    "clf.fit(X_train, y_train)"
   ]
  },
  {
   "cell_type": "code",
   "execution_count": 7,
   "metadata": {},
   "outputs": [
    {
     "data": {
      "text/plain": [
       "100.0"
      ]
     },
     "execution_count": 7,
     "metadata": {},
     "output_type": "execute_result"
    }
   ],
   "source": [
    "clf.score(X_train,y_train)*100"
   ]
  },
  {
   "cell_type": "markdown",
   "metadata": {},
   "source": [
    "### Your test set loading code\n",
    "\n",
    "You will write a cell that uses `glob` to load all the files in `data/test` into a list of file objects.\n",
    "\n",
    "An example of a file object:\n",
    "\n",
    "```python\n",
    "fobj_lst = [open(\"data/test/compsci00.txt\")]\n",
    "```\n",
    "\n",
    "You will just need to make a list of **all** the files in the `data/test` folder and it can be done with a list comprehension or a `for` loop.\n",
    "\n",
    "After you have assembled this list, you will be able to run `vectorizer.transform(fobj_lst)` and then pass that object to the `predict()` function of the classifier."
   ]
  },
  {
   "cell_type": "code",
   "execution_count": 31,
   "metadata": {},
   "outputs": [
    {
     "name": "stdout",
     "output_type": "stream",
     "text": [
      "['data/test\\\\compsci00.txt', 'data/test\\\\economics00.txt', 'data/test\\\\education00.txt', 'data/test\\\\physics00.txt', 'data/test\\\\sociology00.txt']\n"
     ]
    }
   ],
   "source": [
    "import glob\n",
    "fobj_lst = glob.glob(\"data/test/*.txt\")\n",
    "print(fobj_lst)"
   ]
  },
  {
   "cell_type": "markdown",
   "metadata": {},
   "source": [
    "### Your test set classification / prediction code"
   ]
  },
  {
   "cell_type": "code",
   "execution_count": 16,
   "metadata": {},
   "outputs": [],
   "source": [
    "from sklearn.naive_bayes import MultinomialNB\n",
    "# Initialize MultinomialNB\n",
    "mnb = MultinomialNB()"
   ]
  },
  {
   "cell_type": "code",
   "execution_count": 38,
   "metadata": {},
   "outputs": [
    {
     "name": "stdout",
     "output_type": "stream",
     "text": [
      "Testing Score (in %) :  100.0\n",
      "predicted: ['compsci00' 'sociology00' 'education00' 'physics00' 'economics00']\n",
      "\n",
      "Classes :  ['compsci00' 'economics00' 'education00' 'physics00' 'sociology00']\n"
     ]
    }
   ],
   "source": [
    "### Now you will execute predict on the classifier to get the list of \n",
    "### corresponding classes for the documents you're trying to classify\n",
    "# build the classifier\n",
    "clf = MultinomialNB()\n",
    "\n",
    "### your code goes here, it will build the file list, store the result of \n",
    "### transform in a variable\n",
    "vectorizerTest = TfidfVectorizer(input='file', stop_words='english')\n",
    "\n",
    "X_test = vectorizerTest.fit_transform([open(file, 'r', encoding='utf-8') for file in fobj_lst])#fobj_lst\n",
    "y_test = ['compsci00', 'sociology00', 'education00', 'physics00', 'economics00']\n",
    "\n",
    "# Testing Data\n",
    "clf.fit(X_test, y_test)\n",
    "print(\"Testing Score (in %) : \",clf.score(X_test, y_test)*100)\n",
    "\n",
    "# use the model to predict the labels of the test data\n",
    "predicted = clf.predict(X_test)\n",
    "print(\"predicted:\",predicted)\n",
    "print()\n",
    "print(\"Classes : \",clf.classes_)"
   ]
  },
  {
   "cell_type": "code",
   "execution_count": null,
   "metadata": {},
   "outputs": [],
   "source": []
  },
  {
   "cell_type": "code",
   "execution_count": 74,
   "metadata": {},
   "outputs": [],
   "source": [
    "# Build the classifier\n",
    "clf = MultinomialNB()\n",
    "\n",
    "file_train = [ open(\"data/train/compsci.txt\") ]"
   ]
  },
  {
   "cell_type": "code",
   "execution_count": 75,
   "metadata": {},
   "outputs": [],
   "source": [
    "# Load the file data into x_test\n",
    "tfidf = TfidfVectorizer(input='file', stop_words='english')\n",
    "x_train = tfidf.fit_transform([open(file.name, 'r', encoding='utf-8') for file in file_test])\n",
    "y_train = [\"compsci\"]"
   ]
  },
  {
   "cell_type": "code",
   "execution_count": 76,
   "metadata": {},
   "outputs": [
    {
     "name": "stdout",
     "output_type": "stream",
     "text": [
      "(1, 2669)\n"
     ]
    }
   ],
   "source": [
    "print(x_train.toarray().shape)"
   ]
  },
  {
   "cell_type": "code",
   "execution_count": 77,
   "metadata": {},
   "outputs": [
    {
     "name": "stdout",
     "output_type": "stream",
     "text": [
      "1\n"
     ]
    }
   ],
   "source": [
    "print(len(y_train))"
   ]
  },
  {
   "cell_type": "code",
   "execution_count": 78,
   "metadata": {},
   "outputs": [
    {
     "data": {
      "text/plain": [
       "MultinomialNB()"
      ]
     },
     "execution_count": 78,
     "metadata": {},
     "output_type": "execute_result"
    }
   ],
   "source": [
    "clf.fit(x_train,y_train)"
   ]
  },
  {
   "cell_type": "code",
   "execution_count": 79,
   "metadata": {},
   "outputs": [
    {
     "data": {
      "text/plain": [
       "100.0"
      ]
     },
     "execution_count": 79,
     "metadata": {},
     "output_type": "execute_result"
    }
   ],
   "source": [
    "clf.score(x_test,y_test)*100"
   ]
  },
  {
   "cell_type": "code",
   "execution_count": 80,
   "metadata": {},
   "outputs": [],
   "source": [
    "## Answer the following questions inside your notebook:"
   ]
  },
  {
   "cell_type": "markdown",
   "metadata": {},
   "source": [
    "1. Make an observation about the class probabilities.  What did you notice?"
   ]
  },
  {
   "cell_type": "markdown",
   "metadata": {},
   "source": [
    "### Ans:\n",
    "The X_train and y_train are taken from given data.\n",
    "The X_train list data used to generated with help of MultinomialNB() \n",
    "class label output of model indicated to as y."
   ]
  },
  {
   "cell_type": "code",
   "execution_count": 82,
   "metadata": {},
   "outputs": [
    {
     "name": "stdout",
     "output_type": "stream",
     "text": [
      "Notice: Classes Labels are  ['compsci']\n"
     ]
    }
   ],
   "source": [
    "#The P(train) is also called class probability.\n",
    "print(\"Notice: Classes Labels are \",clf.classes_)"
   ]
  },
  {
   "cell_type": "markdown",
   "metadata": {},
   "source": [
    "2. Provide some commentary as a thought exercise or if you have time, provide some example code)."
   ]
  },
  {
   "cell_type": "markdown",
   "metadata": {},
   "source": [
    "### Ans:\n",
    "\n",
    "predict_proba(X): Return probability estimates for the test vector X.\n",
    "predict(X): Perform classification on an array of test vectors X.\n",
    "\n",
    "As show bellow example:\n",
    "    "
   ]
  },
  {
   "cell_type": "code",
   "execution_count": 83,
   "metadata": {},
   "outputs": [
    {
     "name": "stdout",
     "output_type": "stream",
     "text": [
      "Training score (in %) :  100.0\n",
      "Testing Score (in %) :  100.0\n",
      "predicted: [5 6]\n",
      "\n",
      "Classes :  [5 6]\n",
      "\n",
      "expected: [5 6] \n",
      "\n",
      "[ True  True] \n",
      "\n",
      "predictedProba():\n",
      " [[1.00000000e+00 2.79796282e-69]\n",
      " [2.05605527e-63 1.00000000e+00]] \n",
      "\n",
      "MultinomialNB Bayesian text classification model accuracy(in %): 100.0\n"
     ]
    }
   ],
   "source": [
    "import numpy as np\n",
    "from sklearn.naive_bayes import MultinomialNB\n",
    "from sklearn.model_selection import train_test_split\n",
    "\n",
    "X = np.random.randint(8, size = (8, 100))\n",
    "y = np.array([1, 2, 3, 4, 5, 6, 7, 8])\n",
    "\n",
    "# split the data into training and validation sets\n",
    "X_train, X_test, y_train, y_test = train_test_split(X, y)\n",
    "\n",
    "\n",
    "mnb = MultinomialNB(alpha = 1.0, class_prior = None, fit_prior = True)\n",
    "# Training Data\n",
    "mnb.fit(X_train, y_train)\n",
    "print(\"Training score (in %) : \",mnb.score(X_train, y_train)*100)\n",
    "# Testing Data\n",
    "mnb.fit(X_test, y_test)\n",
    "print(\"Testing Score (in %) : \",mnb.score(X_test, y_test)*100)\n",
    "\n",
    "# use the model to predict the labels of the test data\n",
    "predicted = mnb.predict(X_test)\n",
    "print(\"predicted:\",predicted)\n",
    "print()\n",
    "print(\"Classes : \",mnb.classes_)\n",
    "print()\n",
    "expected = y_test\n",
    "print(\"expected:\",expected,\"\\n\")\n",
    "\n",
    "\n",
    "print(predicted == expected,\"\\n\")\n",
    "\n",
    "\n",
    "predictedProba = mnb.predict_proba(X_test)\n",
    "print(\"predictedProba():\\n\",predictedProba,\"\\n\")\n",
    "\n",
    "\n",
    "# comparing actual response values (y_test) with predicted response values (y_pred) \n",
    "from sklearn import metrics \n",
    "print(\"MultinomialNB Bayesian text classification model accuracy(in %):\", metrics.accuracy_score(predicted, y_test)*100)"
   ]
  },
  {
   "cell_type": "code",
   "execution_count": null,
   "metadata": {},
   "outputs": [],
   "source": []
  }
 ],
 "metadata": {
  "kernelspec": {
   "display_name": "Python 3",
   "language": "python",
   "name": "python3"
  },
  "language_info": {
   "codemirror_mode": {
    "name": "ipython",
    "version": 3
   },
   "file_extension": ".py",
   "mimetype": "text/x-python",
   "name": "python",
   "nbconvert_exporter": "python",
   "pygments_lexer": "ipython3",
   "version": "3.8.8"
  }
 },
 "nbformat": 4,
 "nbformat_minor": 4
}
